{
 "cells": [
  {
   "cell_type": "code",
   "execution_count": 1,
   "metadata": {},
   "outputs": [],
   "source": [
    "import pandas as pd\n",
    "from bs4 import BeautifulSoup"
   ]
  },
  {
   "cell_type": "code",
   "execution_count": 2,
   "metadata": {},
   "outputs": [],
   "source": [
    "df = pd.read_csv(\"/Users/ishaan/Desktop/stackExchange/QueryResults.csv\")"
   ]
  },
  {
   "cell_type": "code",
   "execution_count": 4,
   "metadata": {},
   "outputs": [
    {
     "data": {
      "text/html": [
       "<div>\n",
       "<style scoped>\n",
       "    .dataframe tbody tr th:only-of-type {\n",
       "        vertical-align: middle;\n",
       "    }\n",
       "\n",
       "    .dataframe tbody tr th {\n",
       "        vertical-align: top;\n",
       "    }\n",
       "\n",
       "    .dataframe thead th {\n",
       "        text-align: right;\n",
       "    }\n",
       "</style>\n",
       "<table border=\"1\" class=\"dataframe\">\n",
       "  <thead>\n",
       "    <tr style=\"text-align: right;\">\n",
       "      <th></th>\n",
       "      <th>Id</th>\n",
       "      <th>PostTypeId</th>\n",
       "      <th>Body</th>\n",
       "      <th>LastActivityDate</th>\n",
       "    </tr>\n",
       "  </thead>\n",
       "  <tbody>\n",
       "    <tr>\n",
       "      <th>6036</th>\n",
       "      <td>2403</td>\n",
       "      <td>4</td>\n",
       "      <td>Docker Hub is a cloud-based registry service d...</td>\n",
       "      <td>2017-12-12 01:13:25</td>\n",
       "    </tr>\n",
       "    <tr>\n",
       "      <th>6825</th>\n",
       "      <td>12249</td>\n",
       "      <td>2</td>\n",
       "      <td>&lt;p&gt;sometimes it happens when you apply Istio m...</td>\n",
       "      <td>2020-08-20 11:37:43</td>\n",
       "    </tr>\n",
       "    <tr>\n",
       "      <th>5196</th>\n",
       "      <td>10164</td>\n",
       "      <td>1</td>\n",
       "      <td>&lt;p&gt;We're building an on-premise Kubernetes clu...</td>\n",
       "      <td>2019-12-25 13:23:04</td>\n",
       "    </tr>\n",
       "    <tr>\n",
       "      <th>10228</th>\n",
       "      <td>6564</td>\n",
       "      <td>1</td>\n",
       "      <td>&lt;p&gt;I have managed to install docker on Windows...</td>\n",
       "      <td>2019-03-11 10:59:47</td>\n",
       "    </tr>\n",
       "    <tr>\n",
       "      <th>5645</th>\n",
       "      <td>4127</td>\n",
       "      <td>2</td>\n",
       "      <td>&lt;p&gt;Just avoid the &lt;code&gt;docker&lt;/code&gt; DSL; it ...</td>\n",
       "      <td>2018-05-18 13:42:24</td>\n",
       "    </tr>\n",
       "    <tr>\n",
       "      <th>4736</th>\n",
       "      <td>520</td>\n",
       "      <td>2</td>\n",
       "      <td>&lt;p&gt;I can answer on how we do it actually:&lt;/p&gt;\\...</td>\n",
       "      <td>2017-03-14 08:58:53</td>\n",
       "    </tr>\n",
       "    <tr>\n",
       "      <th>1820</th>\n",
       "      <td>1823</td>\n",
       "      <td>2</td>\n",
       "      <td>&lt;p&gt;I think that it's very difficult, if not im...</td>\n",
       "      <td>2017-08-22 18:12:32</td>\n",
       "    </tr>\n",
       "    <tr>\n",
       "      <th>8311</th>\n",
       "      <td>4535</td>\n",
       "      <td>2</td>\n",
       "      <td>&lt;p&gt;I managed to fix it. First I disabled and d...</td>\n",
       "      <td>2018-07-18 11:22:45</td>\n",
       "    </tr>\n",
       "    <tr>\n",
       "      <th>673</th>\n",
       "      <td>86</td>\n",
       "      <td>1</td>\n",
       "      <td>&lt;p&gt;What is the difference between SRE and DevO...</td>\n",
       "      <td>2017-06-06 19:40:49</td>\n",
       "    </tr>\n",
       "    <tr>\n",
       "      <th>60</th>\n",
       "      <td>6648</td>\n",
       "      <td>2</td>\n",
       "      <td>&lt;p&gt;You cannot rely on &lt;code&gt;FROM node:10.15-al...</td>\n",
       "      <td>2019-03-18 03:01:47</td>\n",
       "    </tr>\n",
       "  </tbody>\n",
       "</table>\n",
       "</div>"
      ],
      "text/plain": [
       "          Id  PostTypeId                                               Body  \\\n",
       "6036    2403           4  Docker Hub is a cloud-based registry service d...   \n",
       "6825   12249           2  <p>sometimes it happens when you apply Istio m...   \n",
       "5196   10164           1  <p>We're building an on-premise Kubernetes clu...   \n",
       "10228   6564           1  <p>I have managed to install docker on Windows...   \n",
       "5645    4127           2  <p>Just avoid the <code>docker</code> DSL; it ...   \n",
       "4736     520           2  <p>I can answer on how we do it actually:</p>\\...   \n",
       "1820    1823           2  <p>I think that it's very difficult, if not im...   \n",
       "8311    4535           2  <p>I managed to fix it. First I disabled and d...   \n",
       "673       86           1  <p>What is the difference between SRE and DevO...   \n",
       "60      6648           2  <p>You cannot rely on <code>FROM node:10.15-al...   \n",
       "\n",
       "          LastActivityDate  \n",
       "6036   2017-12-12 01:13:25  \n",
       "6825   2020-08-20 11:37:43  \n",
       "5196   2019-12-25 13:23:04  \n",
       "10228  2019-03-11 10:59:47  \n",
       "5645   2018-05-18 13:42:24  \n",
       "4736   2017-03-14 08:58:53  \n",
       "1820   2017-08-22 18:12:32  \n",
       "8311   2018-07-18 11:22:45  \n",
       "673    2017-06-06 19:40:49  \n",
       "60     2019-03-18 03:01:47  "
      ]
     },
     "execution_count": 4,
     "metadata": {},
     "output_type": "execute_result"
    }
   ],
   "source": [
    "df.sample(10)"
   ]
  },
  {
   "cell_type": "code",
   "execution_count": 6,
   "metadata": {},
   "outputs": [
    {
     "name": "stdout",
     "output_type": "stream",
     "text": [
      "<class 'pandas.core.frame.DataFrame'>\n",
      "RangeIndex: 10549 entries, 0 to 10548\n",
      "Data columns (total 4 columns):\n",
      " #   Column            Non-Null Count  Dtype \n",
      "---  ------            --------------  ----- \n",
      " 0   Id                10549 non-null  int64 \n",
      " 1   PostTypeId        10549 non-null  int64 \n",
      " 2   Body              10404 non-null  object\n",
      " 3   LastActivityDate  10549 non-null  object\n",
      "dtypes: int64(2), object(2)\n",
      "memory usage: 329.8+ KB\n"
     ]
    }
   ],
   "source": [
    "df.info()"
   ]
  },
  {
   "cell_type": "code",
   "execution_count": 51,
   "metadata": {},
   "outputs": [
    {
     "name": "stdout",
     "output_type": "stream",
     "text": [
      "18032\n"
     ]
    }
   ],
   "source": [
    "c = 0\n",
    "count = 0\n",
    "for data in df.Body:\n",
    "#     if(count==636):\n",
    "#         continue\n",
    "#     soup = BeautifulSoup(data, \"html.parser\")\n",
    "#     count +=1\n",
    "    if(type(data) == str):\n",
    "        c += data.count(\"<code>\")\n",
    "    \n",
    "#     c += len([tag.name for tag in soup.find_all(\"code\")])\n",
    "# #     print(\"==================================================\")\n",
    "print(c)"
   ]
  },
  {
   "cell_type": "code",
   "execution_count": null,
   "metadata": {},
   "outputs": [],
   "source": []
  }
 ],
 "metadata": {
  "kernelspec": {
   "display_name": "Python 3",
   "language": "python",
   "name": "python3"
  },
  "language_info": {
   "codemirror_mode": {
    "name": "ipython",
    "version": 3
   },
   "file_extension": ".py",
   "mimetype": "text/x-python",
   "name": "python",
   "nbconvert_exporter": "python",
   "pygments_lexer": "ipython3",
   "version": "3.6.10"
  }
 },
 "nbformat": 4,
 "nbformat_minor": 4
}
